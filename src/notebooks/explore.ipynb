{
 "cells": [
  {
   "cell_type": "code",
   "execution_count": 46,
   "metadata": {},
   "outputs": [
    {
     "name": "stdout",
     "output_type": "stream",
     "text": [
      "The autoreload extension is already loaded. To reload it, use:\n",
      "  %reload_ext autoreload\n"
     ]
    }
   ],
   "source": [
    "import os\n",
    "from pathlib import Path\n",
    "import pyrootutils\n",
    "import IPython\n",
    "import warnings\n",
    "import pandas as pd\n",
    "from src.data import *\n",
    "\n",
    "%load_ext autoreload\n",
    "%autoreload 2\n",
    "%reload_ext autoreload\n",
    "\n",
    "path_workdir: Path = Path(pyrootutils.find_root(search_from=os.curdir, indicator=\".project-root\"))\n",
    "os.chdir(Path(path_workdir))"
   ]
  },
  {
   "attachments": {},
   "cell_type": "markdown",
   "metadata": {},
   "source": [
    "# Exploratory data analysis -- Subtask A"
   ]
  },
  {
   "cell_type": "code",
   "execution_count": 47,
   "metadata": {},
   "outputs": [],
   "source": [
    "from src.create_split_subtask_a import create_subtask_a_df\n",
    "df = create_subtask_a_df()"
   ]
  },
  {
   "cell_type": "code",
   "execution_count": 48,
   "metadata": {},
   "outputs": [
    {
     "data": {
      "text/html": [
       "<div>\n",
       "<style scoped>\n",
       "    .dataframe tbody tr th:only-of-type {\n",
       "        vertical-align: middle;\n",
       "    }\n",
       "\n",
       "    .dataframe tbody tr th {\n",
       "        vertical-align: top;\n",
       "    }\n",
       "\n",
       "    .dataframe thead th {\n",
       "        text-align: right;\n",
       "    }\n",
       "</style>\n",
       "<table border=\"1\" class=\"dataframe\">\n",
       "  <thead>\n",
       "    <tr style=\"text-align: right;\">\n",
       "      <th></th>\n",
       "      <th>id</th>\n",
       "      <th>sentence</th>\n",
       "      <th>label</th>\n",
       "      <th>sentence_length</th>\n",
       "    </tr>\n",
       "  </thead>\n",
       "  <tbody>\n",
       "    <tr>\n",
       "      <th>0</th>\n",
       "      <td>1</td>\n",
       "      <td>he put an elephant into the fridge</td>\n",
       "      <td>0</td>\n",
       "      <td>7</td>\n",
       "    </tr>\n",
       "    <tr>\n",
       "      <th>1</th>\n",
       "      <td>1</td>\n",
       "      <td>he put a turkey into the fridge</td>\n",
       "      <td>1</td>\n",
       "      <td>7</td>\n",
       "    </tr>\n",
       "    <tr>\n",
       "      <th>2</th>\n",
       "      <td>2</td>\n",
       "      <td>my sister eats an apple after breakfast every day</td>\n",
       "      <td>1</td>\n",
       "      <td>9</td>\n",
       "    </tr>\n",
       "    <tr>\n",
       "      <th>3</th>\n",
       "      <td>2</td>\n",
       "      <td>my sister eats a stone after breakfast every day</td>\n",
       "      <td>0</td>\n",
       "      <td>9</td>\n",
       "    </tr>\n",
       "    <tr>\n",
       "      <th>4</th>\n",
       "      <td>3</td>\n",
       "      <td>money can be used for buying cars</td>\n",
       "      <td>1</td>\n",
       "      <td>7</td>\n",
       "    </tr>\n",
       "    <tr>\n",
       "      <th>...</th>\n",
       "      <td>...</td>\n",
       "      <td>...</td>\n",
       "      <td>...</td>\n",
       "      <td>...</td>\n",
       "    </tr>\n",
       "    <tr>\n",
       "      <th>4037</th>\n",
       "      <td>2019</td>\n",
       "      <td>people have to hold onto their shoes because o...</td>\n",
       "      <td>0</td>\n",
       "      <td>11</td>\n",
       "    </tr>\n",
       "    <tr>\n",
       "      <th>4038</th>\n",
       "      <td>2020</td>\n",
       "      <td>Rebecca wakes up because she takes sleeping pills</td>\n",
       "      <td>0</td>\n",
       "      <td>8</td>\n",
       "    </tr>\n",
       "    <tr>\n",
       "      <th>4039</th>\n",
       "      <td>2020</td>\n",
       "      <td>Rebecca wakes up because she sets an alarm</td>\n",
       "      <td>1</td>\n",
       "      <td>8</td>\n",
       "    </tr>\n",
       "    <tr>\n",
       "      <th>4040</th>\n",
       "      <td>2021</td>\n",
       "      <td>people bleed when they feel hot</td>\n",
       "      <td>0</td>\n",
       "      <td>6</td>\n",
       "    </tr>\n",
       "    <tr>\n",
       "      <th>4041</th>\n",
       "      <td>2021</td>\n",
       "      <td>people sweat when they feel hot</td>\n",
       "      <td>1</td>\n",
       "      <td>6</td>\n",
       "    </tr>\n",
       "  </tbody>\n",
       "</table>\n",
       "<p>4042 rows × 4 columns</p>\n",
       "</div>"
      ],
      "text/plain": [
       "        id                                           sentence  label   \n",
       "0        1                 he put an elephant into the fridge      0  \\\n",
       "1        1                    he put a turkey into the fridge      1   \n",
       "2        2  my sister eats an apple after breakfast every day      1   \n",
       "3        2   my sister eats a stone after breakfast every day      0   \n",
       "4        3                  money can be used for buying cars      1   \n",
       "...    ...                                                ...    ...   \n",
       "4037  2019  people have to hold onto their shoes because o...      0   \n",
       "4038  2020  Rebecca wakes up because she takes sleeping pills      0   \n",
       "4039  2020         Rebecca wakes up because she sets an alarm      1   \n",
       "4040  2021                    people bleed when they feel hot      0   \n",
       "4041  2021                    people sweat when they feel hot      1   \n",
       "\n",
       "      sentence_length  \n",
       "0                   7  \n",
       "1                   7  \n",
       "2                   9  \n",
       "3                   9  \n",
       "4                   7  \n",
       "...               ...  \n",
       "4037               11  \n",
       "4038                8  \n",
       "4039                8  \n",
       "4040                6  \n",
       "4041                6  \n",
       "\n",
       "[4042 rows x 4 columns]"
      ]
     },
     "execution_count": 48,
     "metadata": {},
     "output_type": "execute_result"
    }
   ],
   "source": [
    "df"
   ]
  },
  {
   "cell_type": "code",
   "execution_count": 49,
   "metadata": {},
   "outputs": [
    {
     "data": {
      "text/plain": [
       "Text(0.5, 1.0, 'Frequency of labels in subtask A')"
      ]
     },
     "execution_count": 49,
     "metadata": {},
     "output_type": "execute_result"
    },
    {
     "data": {
      "image/png": "[encoded data removed]",
      "text/plain": [
       "<Figure size 640x480 with 1 Axes>"
      ]
     },
     "metadata": {},
     "output_type": "display_data"
    }
   ],
   "source": [
    "import matplotlib.pyplot as plt\n",
    "\n",
    "ax = df[\"label\"].value_counts().T.plot.bar()\n",
    "ax.bar_label(ax.containers[0])\n",
    "\n",
    "plt.xticks([0,1], [\"Sentence doesn't makes sense\", 'Sentence makes sense'], rotation=0)\n",
    "plt.ylabel('Frequency')\n",
    "plt.title('Frequency of labels in subtask A')"
   ]
  },
  {
   "attachments": {},
   "cell_type": "markdown",
   "metadata": {},
   "source": [
    "> **We can perform random label split without worrying about split balance and dataset label distribution**"
   ]
  },
  {
   "cell_type": "code",
   "execution_count": 50,
   "metadata": {},
   "outputs": [
    {
     "data": {
      "image/png": "[encoded data removed]",
      "text/plain": [
       "<Figure size 640x480 with 1 Axes>"
      ]
     },
     "metadata": {},
     "output_type": "display_data"
    }
   ],
   "source": [
    "from src.defaults import PATH_TEST_A, PATH_TRAIN_A\n",
    "\n",
    "df_train, df_test = pd.read_csv(PATH_TRAIN_A), pd.read_csv(PATH_TEST_A)\n",
    "ax = plt.bar([\"Train split\", \"Test split\"], [df_train[\"label\"].count(), df_test[\"label\"].count()])\n",
    "plt.bar_label(ax)\n",
    "plt.show()"
   ]
  },
  {
   "cell_type": "code",
   "execution_count": 51,
   "metadata": {},
   "outputs": [
    {
     "data": {
      "text/html": [
       "<div>\n",
       "<style scoped>\n",
       "    .dataframe tbody tr th:only-of-type {\n",
       "        vertical-align: middle;\n",
       "    }\n",
       "\n",
       "    .dataframe tbody tr th {\n",
       "        vertical-align: top;\n",
       "    }\n",
       "\n",
       "    .dataframe thead th {\n",
       "        text-align: right;\n",
       "    }\n",
       "</style>\n",
       "<table border=\"1\" class=\"dataframe\">\n",
       "  <thead>\n",
       "    <tr style=\"text-align: right;\">\n",
       "      <th></th>\n",
       "      <th>id</th>\n",
       "      <th>sentence</th>\n",
       "      <th>label</th>\n",
       "      <th>sentence_length</th>\n",
       "    </tr>\n",
       "  </thead>\n",
       "  <tbody>\n",
       "    <tr>\n",
       "      <th>0</th>\n",
       "      <td>1</td>\n",
       "      <td>he put an elephant into the fridge</td>\n",
       "      <td>0</td>\n",
       "      <td>7</td>\n",
       "    </tr>\n",
       "    <tr>\n",
       "      <th>1</th>\n",
       "      <td>1</td>\n",
       "      <td>he put a turkey into the fridge</td>\n",
       "      <td>1</td>\n",
       "      <td>7</td>\n",
       "    </tr>\n",
       "    <tr>\n",
       "      <th>2</th>\n",
       "      <td>2</td>\n",
       "      <td>my sister eats an apple after breakfast every day</td>\n",
       "      <td>1</td>\n",
       "      <td>9</td>\n",
       "    </tr>\n",
       "    <tr>\n",
       "      <th>3</th>\n",
       "      <td>2</td>\n",
       "      <td>my sister eats a stone after breakfast every day</td>\n",
       "      <td>0</td>\n",
       "      <td>9</td>\n",
       "    </tr>\n",
       "    <tr>\n",
       "      <th>4</th>\n",
       "      <td>5</td>\n",
       "      <td>a man can better see stars and the moon in day...</td>\n",
       "      <td>0</td>\n",
       "      <td>11</td>\n",
       "    </tr>\n",
       "  </tbody>\n",
       "</table>\n",
       "</div>"
      ],
      "text/plain": [
       "   id                                           sentence  label   \n",
       "0   1                 he put an elephant into the fridge      0  \\\n",
       "1   1                    he put a turkey into the fridge      1   \n",
       "2   2  my sister eats an apple after breakfast every day      1   \n",
       "3   2   my sister eats a stone after breakfast every day      0   \n",
       "4   5  a man can better see stars and the moon in day...      0   \n",
       "\n",
       "   sentence_length  \n",
       "0                7  \n",
       "1                7  \n",
       "2                9  \n",
       "3                9  \n",
       "4               11  "
      ]
     },
     "metadata": {},
     "output_type": "display_data"
    },
    {
     "data": {
      "text/html": [
       "<div>\n",
       "<style scoped>\n",
       "    .dataframe tbody tr th:only-of-type {\n",
       "        vertical-align: middle;\n",
       "    }\n",
       "\n",
       "    .dataframe tbody tr th {\n",
       "        vertical-align: top;\n",
       "    }\n",
       "\n",
       "    .dataframe thead th {\n",
       "        text-align: right;\n",
       "    }\n",
       "</style>\n",
       "<table border=\"1\" class=\"dataframe\">\n",
       "  <thead>\n",
       "    <tr style=\"text-align: right;\">\n",
       "      <th></th>\n",
       "      <th>id</th>\n",
       "      <th>sentence</th>\n",
       "      <th>label</th>\n",
       "      <th>sentence_length</th>\n",
       "    </tr>\n",
       "  </thead>\n",
       "  <tbody>\n",
       "    <tr>\n",
       "      <th>0</th>\n",
       "      <td>3</td>\n",
       "      <td>money can be used for buying cars</td>\n",
       "      <td>1</td>\n",
       "      <td>7</td>\n",
       "    </tr>\n",
       "    <tr>\n",
       "      <th>1</th>\n",
       "      <td>3</td>\n",
       "      <td>money can be used for buying stars</td>\n",
       "      <td>0</td>\n",
       "      <td>7</td>\n",
       "    </tr>\n",
       "    <tr>\n",
       "      <th>2</th>\n",
       "      <td>4</td>\n",
       "      <td>New York is located in the northeastern part o...</td>\n",
       "      <td>1</td>\n",
       "      <td>10</td>\n",
       "    </tr>\n",
       "    <tr>\n",
       "      <th>3</th>\n",
       "      <td>4</td>\n",
       "      <td>USA is located in the northeastern part of New...</td>\n",
       "      <td>0</td>\n",
       "      <td>10</td>\n",
       "    </tr>\n",
       "    <tr>\n",
       "      <th>4</th>\n",
       "      <td>7</td>\n",
       "      <td>his mother became satisfied after he got good ...</td>\n",
       "      <td>1</td>\n",
       "      <td>13</td>\n",
       "    </tr>\n",
       "  </tbody>\n",
       "</table>\n",
       "</div>"
      ],
      "text/plain": [
       "   id                                           sentence  label   \n",
       "0   3                  money can be used for buying cars      1  \\\n",
       "1   3                 money can be used for buying stars      0   \n",
       "2   4  New York is located in the northeastern part o...      1   \n",
       "3   4  USA is located in the northeastern part of New...      0   \n",
       "4   7  his mother became satisfied after he got good ...      1   \n",
       "\n",
       "   sentence_length  \n",
       "0                7  \n",
       "1                7  \n",
       "2               10  \n",
       "3               10  \n",
       "4               13  "
      ]
     },
     "metadata": {},
     "output_type": "display_data"
    }
   ],
   "source": [
    "display(df_train.head())\n",
    "display(df_test.head())"
   ]
  },
  {
   "cell_type": "code",
   "execution_count": 52,
   "metadata": {},
   "outputs": [
    {
     "data": {
      "text/plain": [
       "<matplotlib.legend.Legend at 0x7f60dc0eb990>"
      ]
     },
     "execution_count": 52,
     "metadata": {},
     "output_type": "execute_result"
    },
    {
     "data": {
      "image/png": "[encoded data removed]",
      "text/plain": [
       "<Figure size 1000x500 with 1 Axes>"
      ]
     },
     "metadata": {},
     "output_type": "display_data"
    }
   ],
   "source": [
    "\n",
    "import matplotlib.ticker as mtick\n",
    "import numpy as np\n",
    "\n",
    "all_bins = np.arange(1, max(df[\"sentence_length\"]) + 2, 1)\n",
    "\n",
    "fig, ax = plt.subplots(figsize=(10, 5))\n",
    "\n",
    "ax.set_title('Distribution of number of words in a sentence per split')\n",
    "ax.set_xticks(all_bins[:-1])\n",
    "a_heights, a_bins = np.histogram(df_train['sentence_length'], bins=all_bins, density=True)\n",
    "b_heights, b_bins = np.histogram(df_test['sentence_length'], bins=a_bins, density=True)\n",
    "\n",
    "a_heights = a_heights * 100\n",
    "b_heights = b_heights * 100\n",
    "\n",
    "bin_width = (a_bins[1] - a_bins[0])/3\n",
    "half_width = bin_width / 2\n",
    "\n",
    "ax.bar(a_bins[:-1] - half_width, a_heights, width=bin_width, label='Train split')\n",
    "ax.bar(b_bins[:-1] + half_width, b_heights, width=bin_width, label='Test split')\n",
    "ax.yaxis.set_major_formatter(mtick.PercentFormatter())\n",
    "\n",
    "ax.set_xlabel('Number of words in a sentence')\n",
    "ax.set_ylabel('Percentage of sentences')\n",
    "\n",
    "plt.legend()"
   ]
  },
  {
   "attachments": {},
   "cell_type": "markdown",
   "metadata": {},
   "source": [
    "# 🏖️ Playground area"
   ]
  },
  {
   "cell_type": "code",
   "execution_count": 53,
   "metadata": {},
   "outputs": [],
   "source": [
    "from datasets import Dataset\n",
    "# https://huggingface.co/docs/datasets/main/index\n",
    "dataset = Dataset.from_pandas(df_train)"
   ]
  },
  {
   "cell_type": "code",
   "execution_count": 54,
   "metadata": {},
   "outputs": [
    {
     "data": {
      "text/plain": [
       "Dataset({\n",
       "    features: ['id', 'sentence', 'label', 'sentence_length'],\n",
       "    num_rows: 3232\n",
       "})"
      ]
     },
     "execution_count": 54,
     "metadata": {},
     "output_type": "execute_result"
    }
   ],
   "source": [
    "from transformers import DebertaV2TokenizerFast\n",
    "dataset"
   ]
  }
 ],
 "metadata": {
  "kernelspec": {
   "display_name": "venv",
   "language": "python",
   "name": "python3"
  },
  "language_info": {
   "codemirror_mode": {
    "name": "ipython",
    "version": 3
   },
   "file_extension": ".py",
   "mimetype": "text/x-python",
   "name": "python",
   "nbconvert_exporter": "python",
   "pygments_lexer": "ipython3",
   "version": "3.11.2"
  }
 },
 "nbformat": 4,
 "nbformat_minor": 2
}
